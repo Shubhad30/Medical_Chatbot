{
 "cells": [
  {
   "cell_type": "code",
   "execution_count": 2,
   "metadata": {},
   "outputs": [
    {
     "name": "stdout",
     "output_type": "stream",
     "text": [
      "Found 25587 images belonging to 7 classes.\n"
     ]
    }
   ],
   "source": [
    "import numpy as np\n",
    "from keras import layers\n",
    "from keras.layers import Input, Dense, Activation,BatchNormalization, Flatten, Conv2D, MaxPooling2D\n",
    "from keras.models import Model\n",
    "from keras.preprocessing import image\n",
    "from keras.preprocessing.image import ImageDataGenerator\n",
    "import tensorflow as tf\n",
    "import keras.backend as K\n",
    "#tf.K.set_image_data_format(‘channels_last’)\n",
    "tf.keras.backend.set_image_data_format('channels_last')\n",
    "#import matplotlib.pyplot as plt\n",
    "#from matplotlib.pyplot import imshow\n",
    "path = 'G:\\\\TEXT\\\\jupyter\\\\Skin_attempt 4\\\\base_dir\\\\train_dir'\n",
    "train_datagen = ImageDataGenerator(rescale=1. / 255)\n",
    "train = train_datagen.flow_from_directory(path, target_size=(227,227), class_mode='categorical')"
   ]
  },
  {
   "cell_type": "code",
   "execution_count": 3,
   "metadata": {},
   "outputs": [
    {
     "data": {
      "text/plain": [
       "tensorflow.python.keras.preprocessing.image.DirectoryIterator"
      ]
     },
     "execution_count": 3,
     "metadata": {},
     "output_type": "execute_result"
    }
   ],
   "source": [
    "type(train)"
   ]
  },
  {
   "cell_type": "code",
   "execution_count": 4,
   "metadata": {},
   "outputs": [
    {
     "data": {
      "text/plain": [
       "tensorflow.python.keras.preprocessing.image.ImageDataGenerator"
      ]
     },
     "execution_count": 4,
     "metadata": {},
     "output_type": "execute_result"
    }
   ],
   "source": [
    "type(train_datagen)"
   ]
  },
  {
   "cell_type": "code",
   "execution_count": 5,
   "metadata": {},
   "outputs": [
    {
     "name": "stdout",
     "output_type": "stream",
     "text": [
      "Batch Size for Input Image :  (32, 227, 227, 3)\n",
      "Batch Size for Output Image :  (32, 7)\n",
      "Image Size of first image :  (227, 227, 3)\n",
      "Output of first image :  (7,)\n"
     ]
    }
   ],
   "source": [
    "print(\"Batch Size for Input Image : \",train[0][0].shape)\n",
    "print(\"Batch Size for Output Image : \",train[0][1].shape)\n",
    "print(\"Image Size of first image : \",train[0][0][0].shape)\n",
    "print(\"Output of first image : \",train[0][1][0].shape)"
   ]
  },
  {
   "cell_type": "code",
   "execution_count": 6,
   "metadata": {},
   "outputs": [
    {
     "name": "stdout",
     "output_type": "stream",
     "text": [
      "Model: \"AlexNet\"\n",
      "_________________________________________________________________\n",
      "Layer (type)                 Output Shape              Param #   \n",
      "=================================================================\n",
      "input_1 (InputLayer)         [(None, 227, 227, 3)]     0         \n",
      "_________________________________________________________________\n",
      "conv0 (Conv2D)               (None, 55, 55, 96)        34944     \n",
      "_________________________________________________________________\n",
      "bn0 (BatchNormalization)     (None, 55, 55, 96)        384       \n",
      "_________________________________________________________________\n",
      "activation (Activation)      (None, 55, 55, 96)        0         \n",
      "_________________________________________________________________\n",
      "max0 (MaxPooling2D)          (None, 27, 27, 96)        0         \n",
      "_________________________________________________________________\n",
      "conv1 (Conv2D)               (None, 27, 27, 256)       614656    \n",
      "_________________________________________________________________\n",
      "bn1 (BatchNormalization)     (None, 27, 27, 256)       1024      \n",
      "_________________________________________________________________\n",
      "activation_1 (Activation)    (None, 27, 27, 256)       0         \n",
      "_________________________________________________________________\n",
      "max1 (MaxPooling2D)          (None, 13, 13, 256)       0         \n",
      "_________________________________________________________________\n",
      "conv2 (Conv2D)               (None, 13, 13, 384)       885120    \n",
      "_________________________________________________________________\n",
      "bn2 (BatchNormalization)     (None, 13, 13, 384)       1536      \n",
      "_________________________________________________________________\n",
      "activation_2 (Activation)    (None, 13, 13, 384)       0         \n",
      "_________________________________________________________________\n",
      "conv3 (Conv2D)               (None, 13, 13, 384)       1327488   \n",
      "_________________________________________________________________\n",
      "bn3 (BatchNormalization)     (None, 13, 13, 384)       1536      \n",
      "_________________________________________________________________\n",
      "activation_3 (Activation)    (None, 13, 13, 384)       0         \n",
      "_________________________________________________________________\n",
      "conv4 (Conv2D)               (None, 13, 13, 256)       884992    \n",
      "_________________________________________________________________\n",
      "bn4 (BatchNormalization)     (None, 13, 13, 256)       1024      \n",
      "_________________________________________________________________\n",
      "activation_4 (Activation)    (None, 13, 13, 256)       0         \n",
      "_________________________________________________________________\n",
      "max2 (MaxPooling2D)          (None, 6, 6, 256)         0         \n",
      "_________________________________________________________________\n",
      "flatten (Flatten)            (None, 9216)              0         \n",
      "_________________________________________________________________\n",
      "fc0 (Dense)                  (None, 4096)              37752832  \n",
      "_________________________________________________________________\n",
      "fc1 (Dense)                  (None, 4096)              16781312  \n",
      "_________________________________________________________________\n",
      "fc2 (Dense)                  (None, 7)                 28679     \n",
      "=================================================================\n",
      "Total params: 58,315,527\n",
      "Trainable params: 58,312,775\n",
      "Non-trainable params: 2,752\n",
      "_________________________________________________________________\n"
     ]
    }
   ],
   "source": [
    "def AlexNet(input_shape):\n",
    "    \n",
    "    X_input = Input(input_shape)\n",
    "    \n",
    "    X = Conv2D(96,(11,11),strides = 4,name=\"conv0\")(X_input)\n",
    "    X = BatchNormalization(axis = 3 , name = \"bn0\")(X)\n",
    "    X = Activation('relu')(X)\n",
    "    \n",
    "    X = MaxPooling2D((3,3),strides = 2,name = 'max0')(X)\n",
    "    \n",
    "    X = Conv2D(256,(5,5),padding = 'same' , name = 'conv1')(X)\n",
    "    X = BatchNormalization(axis = 3 ,name='bn1')(X)\n",
    "    X = Activation('relu')(X)\n",
    "    \n",
    "    X = MaxPooling2D((3,3),strides = 2,name = 'max1')(X)\n",
    "    \n",
    "    X = Conv2D(384, (3,3) , padding = 'same' , name='conv2')(X)\n",
    "    X = BatchNormalization(axis = 3, name = 'bn2')(X)\n",
    "    X = Activation('relu')(X)\n",
    "    \n",
    "    X = Conv2D(384, (3,3) , padding = 'same' , name='conv3')(X)\n",
    "    X = BatchNormalization(axis = 3, name = 'bn3')(X)\n",
    "    X = Activation('relu')(X)\n",
    "    \n",
    "    X = Conv2D(256, (3,3) , padding = 'same' , name='conv4')(X)\n",
    "    X = BatchNormalization(axis = 3, name = 'bn4')(X)\n",
    "    X = Activation('relu')(X)\n",
    "    \n",
    "    X = MaxPooling2D((3,3),strides = 2,name = 'max2')(X)\n",
    "    \n",
    "    X = Flatten()(X)\n",
    "    \n",
    "    X = Dense(4096, activation = 'relu', name = \"fc0\")(X)\n",
    "    \n",
    "    X = Dense(4096, activation = 'relu', name = 'fc1')(X) \n",
    "    \n",
    "    X = Dense(7,activation='softmax',name = 'fc2')(X)\n",
    "    \n",
    "    model = Model(inputs = X_input, outputs = X, name='AlexNet')\n",
    "    return model\n",
    "alex = AlexNet(train[0][0].shape[1:])\n",
    "alex.summary()"
   ]
  },
  {
   "cell_type": "code",
   "execution_count": 8,
   "metadata": {},
   "outputs": [
    {
     "name": "stdout",
     "output_type": "stream",
     "text": [
      "Found 2003 images belonging to 7 classes.\n"
     ]
    },
    {
     "data": {
      "text/plain": [
       "tensorflow.python.keras.preprocessing.image.ImageDataGenerator"
      ]
     },
     "execution_count": 8,
     "metadata": {},
     "output_type": "execute_result"
    }
   ],
   "source": [
    "path1 = 'G:\\\\TEXT\\\\jupyter\\\\Skin_attempt 4\\\\base_dir\\\\test_dir\\\\val_dir'\n",
    "val_datagen = ImageDataGenerator(rescale=1. / 255)\n",
    "val = val_datagen.flow_from_directory(path1, target_size=(227,227), class_mode='categorical')\n",
    "type(val)\n",
    "type(val_datagen)"
   ]
  },
  {
   "cell_type": "code",
   "execution_count": 10,
   "metadata": {},
   "outputs": [
    {
     "name": "stdout",
     "output_type": "stream",
     "text": [
      "Epoch 1/5\n",
      "800/800 [==============================] - 3338s 4s/step - loss: 1.1834 - accuracy: 0.5416 - val_loss: 1.1167 - val_accuracy: 0.5701\n",
      "Epoch 2/5\n",
      "800/800 [==============================] - 3326s 4s/step - loss: 1.0059 - accuracy: 0.6215 - val_loss: 0.9856 - val_accuracy: 0.6360\n",
      "Epoch 3/5\n",
      "800/800 [==============================] - 3326s 4s/step - loss: 0.8829 - accuracy: 0.6740 - val_loss: 1.1894 - val_accuracy: 0.5901\n",
      "Epoch 4/5\n",
      "800/800 [==============================] - 3358s 4s/step - loss: 0.7933 - accuracy: 0.7056 - val_loss: 1.0619 - val_accuracy: 0.6455\n",
      "Epoch 5/5\n",
      "800/800 [==============================] - 4025s 5s/step - loss: 0.7284 - accuracy: 0.7316 - val_loss: 0.8868 - val_accuracy: 0.6975\n"
     ]
    },
    {
     "data": {
      "text/plain": [
       "<tensorflow.python.keras.callbacks.History at 0x1a4917d7c0>"
      ]
     },
     "execution_count": 10,
     "metadata": {},
     "output_type": "execute_result"
    }
   ],
   "source": [
    "alex.compile(optimizer = 'adam' , loss = 'categorical_crossentropy' , metrics=['accuracy'])\n",
    "alex.fit(train,epochs=5,validation_data=(val))"
   ]
  },
  {
   "cell_type": "code",
   "execution_count": 11,
   "metadata": {},
   "outputs": [
    {
     "name": "stdout",
     "output_type": "stream",
     "text": [
      "Found 2003 images belonging to 7 classes.\n"
     ]
    }
   ],
   "source": [
    "#testing\n",
    "path_test = 'G:\\\\TEXT\\\\jupyter\\\\Skin_attempt 4\\\\base_dir\\\\test_dir\\\\testing_dir'\n",
    "test_datagen = ImageDataGenerator(rescale=1. / 255)\n",
    "test = test_datagen.flow_from_directory(path_test, target_size=(227,227), class_mode='categorical')"
   ]
  },
  {
   "cell_type": "code",
   "execution_count": 12,
   "metadata": {},
   "outputs": [
    {
     "name": "stdout",
     "output_type": "stream",
     "text": [
      "63/63 [==============================] - 75s 1s/step - loss: 0.8503 - accuracy: 0.6945\n",
      "Loss = 0.8503354787826538\n",
      "Test Accuracy = 0.6944583058357239\n"
     ]
    }
   ],
   "source": [
    "preds = alex.evaluate(test)\n",
    "print (\"Loss = \" + str(preds[0]))\n",
    "print (\"Test Accuracy = \" + str(preds[1]))\n",
    "alex.save(\"model1.h5\")"
   ]
  },
  {
   "cell_type": "code",
   "execution_count": null,
   "metadata": {},
   "outputs": [],
   "source": []
  }
 ],
 "metadata": {
  "kernelspec": {
   "display_name": "Python 3",
   "language": "python",
   "name": "python3"
  },
  "language_info": {
   "codemirror_mode": {
    "name": "ipython",
    "version": 3
   },
   "file_extension": ".py",
   "mimetype": "text/x-python",
   "name": "python",
   "nbconvert_exporter": "python",
   "pygments_lexer": "ipython3",
   "version": "3.8.1"
  }
 },
 "nbformat": 4,
 "nbformat_minor": 4
}

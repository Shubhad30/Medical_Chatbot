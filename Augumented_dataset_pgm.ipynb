{
  "nbformat": 4,
  "nbformat_minor": 0,
  "metadata": {
    "kernelspec": {
      "display_name": "Python 3",
      "language": "python",
      "name": "python3"
    },
    "language_info": {
      "codemirror_mode": {
        "name": "ipython",
        "version": 3
      },
      "file_extension": ".py",
      "mimetype": "text/x-python",
      "name": "python",
      "nbconvert_exporter": "python",
      "pygments_lexer": "ipython3",
      "version": "3.8.1"
    },
    "colab": {
      "name": "trial4_2.ipynb",
      "provenance": [],
      "collapsed_sections": []
    },
    "accelerator": "GPU"
  },
  "cells": [
    {
      "cell_type": "code",
      "metadata": {
        "colab": {
          "base_uri": "https://localhost:8080/"
        },
        "id": "-sFADZhNnUgN",
        "outputId": "e0ad35a7-9957-4591-b8d3-8b580b45f635"
      },
      "source": [
        "from google.colab import drive\n",
        "drive.mount('/content/drive')"
      ],
      "execution_count": null,
      "outputs": [
        {
          "output_type": "stream",
          "text": [
            "Mounted at /content/drive\n"
          ],
          "name": "stdout"
        }
      ]
    },
    {
      "cell_type": "code",
      "metadata": {
        "id": "9NUmgB75m1_f",
        "colab": {
          "base_uri": "https://localhost:8080/"
        },
        "outputId": "1e1a4cc5-56e3-4045-f441-df16de9d51ac"
      },
      "source": [
        "import numpy as np\n",
        "from keras import layers\n",
        "from keras.layers import Input, Dense, Activation,BatchNormalization, Flatten, Conv2D, MaxPooling2D\n",
        "from keras.models import Model\n",
        "from keras.preprocessing import image\n",
        "from keras.preprocessing.image import ImageDataGenerator\n",
        "import tensorflow as tf\n",
        "import keras.backend as K\n",
        "#from matplotlib import pyplot as plt\n",
        "#tf.K.set_image_data_format(‘channels_last’)\n",
        "tf.keras.backend.set_image_data_format('channels_last')\n",
        "#import matplotlib.pyplot as plt\n",
        "#from matplotlib.pyplot import imshow\n",
        "path = '/content/drive/MyDrive/base_dir/train_dir'\n",
        "train_datagen = ImageDataGenerator(rescale=1. / 255)\n",
        "train = train_datagen.flow_from_directory(path, target_size=(227,227), class_mode='categorical')"
      ],
      "execution_count": null,
      "outputs": [
        {
          "output_type": "stream",
          "text": [
            "Found 25591 images belonging to 7 classes.\n"
          ],
          "name": "stdout"
        }
      ]
    },
    {
      "cell_type": "code",
      "metadata": {
        "id": "qFIZ0qSYnMgf"
      },
      "source": [
        "import keras"
      ],
      "execution_count": null,
      "outputs": []
    },
    {
      "cell_type": "code",
      "metadata": {
        "id": "XlNHdOZkm1_h",
        "colab": {
          "base_uri": "https://localhost:8080/"
        },
        "outputId": "2e2a95f4-be55-4b1f-cd5e-53b48cbeb93b"
      },
      "source": [
        "type(train)"
      ],
      "execution_count": null,
      "outputs": [
        {
          "output_type": "execute_result",
          "data": {
            "text/plain": [
              "tensorflow.python.keras.preprocessing.image.DirectoryIterator"
            ]
          },
          "metadata": {
            "tags": []
          },
          "execution_count": 4
        }
      ]
    },
    {
      "cell_type": "code",
      "metadata": {
        "id": "sn05lknNm1_h",
        "colab": {
          "base_uri": "https://localhost:8080/"
        },
        "outputId": "c2682ebc-fbfe-4ed0-9fde-723f4eee4184"
      },
      "source": [
        "type(train_datagen)"
      ],
      "execution_count": null,
      "outputs": [
        {
          "output_type": "execute_result",
          "data": {
            "text/plain": [
              "tensorflow.python.keras.preprocessing.image.ImageDataGenerator"
            ]
          },
          "metadata": {
            "tags": []
          },
          "execution_count": 5
        }
      ]
    },
    {
      "cell_type": "code",
      "metadata": {
        "id": "SfcWVbAXm1_i",
        "colab": {
          "base_uri": "https://localhost:8080/"
        },
        "outputId": "d17c84e4-a986-479a-bf5c-cb1936d11df9"
      },
      "source": [
        "print(\"Batch Size for Input Image : \",train[0][0].shape)\n",
        "print(\"Batch Size for Output Image : \",train[0][1].shape)\n",
        "print(\"Image Size of first image : \",train[0][0][0].shape)\n",
        "print(\"Output of first image : \",train[0][1][0].shape)"
      ],
      "execution_count": null,
      "outputs": [
        {
          "output_type": "stream",
          "text": [
            "Batch Size for Input Image :  (32, 227, 227, 3)\n",
            "Batch Size for Output Image :  (32, 7)\n",
            "Image Size of first image :  (227, 227, 3)\n",
            "Output of first image :  (7,)\n"
          ],
          "name": "stdout"
        }
      ]
    },
    {
      "cell_type": "code",
      "metadata": {
        "id": "ym71CED_m1_i",
        "colab": {
          "base_uri": "https://localhost:8080/"
        },
        "outputId": "acfef8f6-1ed7-432c-ca29-0f1ca1f876f7"
      },
      "source": [
        "def AlexNet(input_shape):\n",
        "    \n",
        "    X_input = Input(input_shape)\n",
        "    \n",
        "    X = Conv2D(96,(11,11),strides = 4,name=\"conv0\")(X_input)\n",
        "    X = BatchNormalization(axis = 3 , name = \"bn0\")(X)\n",
        "    X = Activation('relu')(X)\n",
        "    \n",
        "    X = MaxPooling2D((3,3),strides = 2,name = 'max0')(X)\n",
        "    \n",
        "    X = Conv2D(256,(5,5),padding = 'same' , name = 'conv1')(X)\n",
        "    X = BatchNormalization(axis = 3 ,name='bn1')(X)\n",
        "    X = Activation('relu')(X)\n",
        "    \n",
        "    X = MaxPooling2D((3,3),strides = 2,name = 'max1')(X)\n",
        "    \n",
        "    X = Conv2D(384, (3,3) , padding = 'same' , name='conv2')(X)\n",
        "    X = BatchNormalization(axis = 3, name = 'bn2')(X)\n",
        "    X = Activation('relu')(X)\n",
        "    \n",
        "    X = Conv2D(384, (3,3) , padding = 'same' , name='conv3')(X)\n",
        "    X = BatchNormalization(axis = 3, name = 'bn3')(X)\n",
        "    X = Activation('relu')(X)\n",
        "    \n",
        "    X = Conv2D(256, (3,3) , padding = 'same' , name='conv4')(X)\n",
        "    X = BatchNormalization(axis = 3, name = 'bn4')(X)\n",
        "    X = Activation('relu')(X)\n",
        "    \n",
        "    X = MaxPooling2D((3,3),strides = 2,name = 'max2')(X)\n",
        "    \n",
        "    X = Flatten()(X)\n",
        "    \n",
        "    X = Dense(4096, activation = 'relu', name = \"fc0\")(X)\n",
        "    \n",
        "    X = Dense(4096, activation = 'relu', name = 'fc1')(X) \n",
        "    \n",
        "    X = Dense(7,activation='softmax',name = 'fc2')(X)\n",
        "    \n",
        "    model = Model(inputs = X_input, outputs = X, name='AlexNet')\n",
        "    return model\n",
        "alex = AlexNet(train[0][0].shape[1:])\n",
        "alex.summary()"
      ],
      "execution_count": null,
      "outputs": [
        {
          "output_type": "stream",
          "text": [
            "Model: \"AlexNet\"\n",
            "_________________________________________________________________\n",
            "Layer (type)                 Output Shape              Param #   \n",
            "=================================================================\n",
            "input_1 (InputLayer)         [(None, 227, 227, 3)]     0         \n",
            "_________________________________________________________________\n",
            "conv0 (Conv2D)               (None, 55, 55, 96)        34944     \n",
            "_________________________________________________________________\n",
            "bn0 (BatchNormalization)     (None, 55, 55, 96)        384       \n",
            "_________________________________________________________________\n",
            "activation (Activation)      (None, 55, 55, 96)        0         \n",
            "_________________________________________________________________\n",
            "max0 (MaxPooling2D)          (None, 27, 27, 96)        0         \n",
            "_________________________________________________________________\n",
            "conv1 (Conv2D)               (None, 27, 27, 256)       614656    \n",
            "_________________________________________________________________\n",
            "bn1 (BatchNormalization)     (None, 27, 27, 256)       1024      \n",
            "_________________________________________________________________\n",
            "activation_1 (Activation)    (None, 27, 27, 256)       0         \n",
            "_________________________________________________________________\n",
            "max1 (MaxPooling2D)          (None, 13, 13, 256)       0         \n",
            "_________________________________________________________________\n",
            "conv2 (Conv2D)               (None, 13, 13, 384)       885120    \n",
            "_________________________________________________________________\n",
            "bn2 (BatchNormalization)     (None, 13, 13, 384)       1536      \n",
            "_________________________________________________________________\n",
            "activation_2 (Activation)    (None, 13, 13, 384)       0         \n",
            "_________________________________________________________________\n",
            "conv3 (Conv2D)               (None, 13, 13, 384)       1327488   \n",
            "_________________________________________________________________\n",
            "bn3 (BatchNormalization)     (None, 13, 13, 384)       1536      \n",
            "_________________________________________________________________\n",
            "activation_3 (Activation)    (None, 13, 13, 384)       0         \n",
            "_________________________________________________________________\n",
            "conv4 (Conv2D)               (None, 13, 13, 256)       884992    \n",
            "_________________________________________________________________\n",
            "bn4 (BatchNormalization)     (None, 13, 13, 256)       1024      \n",
            "_________________________________________________________________\n",
            "activation_4 (Activation)    (None, 13, 13, 256)       0         \n",
            "_________________________________________________________________\n",
            "max2 (MaxPooling2D)          (None, 6, 6, 256)         0         \n",
            "_________________________________________________________________\n",
            "flatten (Flatten)            (None, 9216)              0         \n",
            "_________________________________________________________________\n",
            "fc0 (Dense)                  (None, 4096)              37752832  \n",
            "_________________________________________________________________\n",
            "fc1 (Dense)                  (None, 4096)              16781312  \n",
            "_________________________________________________________________\n",
            "fc2 (Dense)                  (None, 7)                 28679     \n",
            "=================================================================\n",
            "Total params: 58,315,527\n",
            "Trainable params: 58,312,775\n",
            "Non-trainable params: 2,752\n",
            "_________________________________________________________________\n"
          ],
          "name": "stdout"
        }
      ]
    },
    {
      "cell_type": "code",
      "metadata": {
        "id": "ozvLP7q5m1_j",
        "colab": {
          "base_uri": "https://localhost:8080/"
        },
        "outputId": "f480e903-9422-4735-d0dd-a47e2f7fa004"
      },
      "source": [
        "path1 = '/content/drive/MyDrive/base_dir/test_dir/val_dir'\n",
        "val_datagen = ImageDataGenerator(rescale=1. / 255)\n",
        "val = val_datagen.flow_from_directory(path1, target_size=(227,227), class_mode='categorical')\n",
        "type(val)\n",
        "type(val_datagen)"
      ],
      "execution_count": null,
      "outputs": [
        {
          "output_type": "stream",
          "text": [
            "Found 2003 images belonging to 7 classes.\n"
          ],
          "name": "stdout"
        },
        {
          "output_type": "execute_result",
          "data": {
            "text/plain": [
              "tensorflow.python.keras.preprocessing.image.ImageDataGenerator"
            ]
          },
          "metadata": {
            "tags": []
          },
          "execution_count": 8
        }
      ]
    },
    {
      "cell_type": "code",
      "metadata": {
        "id": "0gFi_82dm1_k",
        "colab": {
          "base_uri": "https://localhost:8080/"
        },
        "outputId": "4fd17e51-f6ee-4913-ac28-d2f295cd9d64"
      },
      "source": [
        "#testing\n",
        "path_test = '/content/drive/MyDrive/base_dir/test_dir/testing_dir'\n",
        "test_datagen = ImageDataGenerator(rescale=1. / 255)\n",
        "test = test_datagen.flow_from_directory(path_test, target_size=(227,227), class_mode='categorical')"
      ],
      "execution_count": null,
      "outputs": [
        {
          "output_type": "stream",
          "text": [
            "Found 2004 images belonging to 7 classes.\n"
          ],
          "name": "stdout"
        }
      ]
    },
    {
      "cell_type": "code",
      "metadata": {
        "id": "Ul5cR4Trm1_j",
        "colab": {
          "base_uri": "https://localhost:8080/"
        },
        "outputId": "d4a3ec2c-3943-44b1-8ca8-536af858cfa4"
      },
      "source": [
        "#with epochs 20 and confusion matrix\n",
        "opt = keras.optimizers.Adam(learning_rate=0.0001)\n",
        "alex.compile(optimizer=opt,loss='categorical_crossentropy',metrics=['accuracy'])\n",
        "\n",
        "history20=alex.fit(train,epochs=20,validation_data=(val))"
      ],
      "execution_count": 10,
      "outputs": [
        {
          "output_type": "stream",
          "text": [
            "Epoch 1/20\n",
            "800/800 [==============================] - 11245s 14s/step - loss: 1.1510 - accuracy: 0.5762 - val_loss: 0.8298 - val_accuracy: 0.6900\n",
            "Epoch 2/20\n",
            "800/800 [==============================] - 142s 177ms/step - loss: 0.7857 - accuracy: 0.6996 - val_loss: 0.8537 - val_accuracy: 0.7239\n",
            "Epoch 3/20\n",
            "800/800 [==============================] - 140s 175ms/step - loss: 0.6278 - accuracy: 0.7632 - val_loss: 1.0549 - val_accuracy: 0.6965\n",
            "Epoch 4/20\n",
            "800/800 [==============================] - 141s 176ms/step - loss: 0.5276 - accuracy: 0.8008 - val_loss: 1.0262 - val_accuracy: 0.6660\n",
            "Epoch 5/20\n",
            "800/800 [==============================] - 140s 176ms/step - loss: 0.4308 - accuracy: 0.8362 - val_loss: 1.1666 - val_accuracy: 0.6985\n",
            "Epoch 6/20\n",
            "800/800 [==============================] - 141s 176ms/step - loss: 0.3631 - accuracy: 0.8626 - val_loss: 0.8125 - val_accuracy: 0.7209\n",
            "Epoch 7/20\n",
            "800/800 [==============================] - 141s 176ms/step - loss: 0.3085 - accuracy: 0.8839 - val_loss: 1.6337 - val_accuracy: 0.5272\n",
            "Epoch 8/20\n",
            "800/800 [==============================] - 140s 175ms/step - loss: 0.2538 - accuracy: 0.9056 - val_loss: 0.7661 - val_accuracy: 0.7649\n",
            "Epoch 9/20\n",
            "800/800 [==============================] - 141s 176ms/step - loss: 0.2187 - accuracy: 0.9186 - val_loss: 1.0137 - val_accuracy: 0.7324\n",
            "Epoch 10/20\n",
            "800/800 [==============================] - 140s 175ms/step - loss: 0.1895 - accuracy: 0.9274 - val_loss: 1.4780 - val_accuracy: 0.6620\n",
            "Epoch 11/20\n",
            "800/800 [==============================] - 140s 175ms/step - loss: 0.1604 - accuracy: 0.9411 - val_loss: 1.1557 - val_accuracy: 0.7449\n",
            "Epoch 12/20\n",
            "800/800 [==============================] - 140s 174ms/step - loss: 0.1476 - accuracy: 0.9453 - val_loss: 0.9668 - val_accuracy: 0.7534\n",
            "Epoch 13/20\n",
            "800/800 [==============================] - 140s 176ms/step - loss: 0.1216 - accuracy: 0.9557 - val_loss: 1.0093 - val_accuracy: 0.7439\n",
            "Epoch 14/20\n",
            "800/800 [==============================] - 140s 175ms/step - loss: 0.1195 - accuracy: 0.9566 - val_loss: 1.0195 - val_accuracy: 0.7424\n",
            "Epoch 15/20\n",
            "800/800 [==============================] - 140s 174ms/step - loss: 0.1159 - accuracy: 0.9596 - val_loss: 0.9899 - val_accuracy: 0.7549\n",
            "Epoch 16/20\n",
            "800/800 [==============================] - 141s 176ms/step - loss: 0.0927 - accuracy: 0.9665 - val_loss: 1.3073 - val_accuracy: 0.7299\n",
            "Epoch 17/20\n",
            "800/800 [==============================] - 141s 176ms/step - loss: 0.0862 - accuracy: 0.9700 - val_loss: 1.9988 - val_accuracy: 0.6910\n",
            "Epoch 18/20\n",
            "800/800 [==============================] - 142s 177ms/step - loss: 0.0812 - accuracy: 0.9715 - val_loss: 1.0928 - val_accuracy: 0.7439\n",
            "Epoch 19/20\n",
            "800/800 [==============================] - 140s 176ms/step - loss: 0.0777 - accuracy: 0.9721 - val_loss: 1.4063 - val_accuracy: 0.7344\n",
            "Epoch 20/20\n",
            "800/800 [==============================] - 141s 177ms/step - loss: 0.0677 - accuracy: 0.9769 - val_loss: 1.2678 - val_accuracy: 0.7474\n"
          ],
          "name": "stdout"
        }
      ]
    },
    {
      "cell_type": "code",
      "metadata": {
        "id": "oX4i3hT3l6OS"
      },
      "source": [
        "# Declare a function for plotting the confusion matrix\n",
        "def plot_confusion_matrix(cm, classes, normalize=False, title='Confusion matrix', cmap=plt.cm.Blues):\n",
        "    \"\"\"\n",
        "    This function prints and plots the confusion matrix.\n",
        "    Normalization can be applied by setting `normalize=True`.\n",
        "    \"\"\"\n",
        "    if normalize:\n",
        "        cm = cm.astype('float') / cm.sum(axis=1)[:, np.newaxis]\n",
        "        print(\"Normalized confusion matrix\")\n",
        "    else:\n",
        "        print('Confusion matrix, without normalization')\n",
        "\n",
        "    print(cm)\n",
        "\n",
        "    plt.imshow(cm, interpolation='nearest', cmap=cmap)\n",
        "    plt.title(title)\n",
        "    plt.colorbar()\n",
        "    tick_marks = np.arange(len(classes))\n",
        "    plt.xticks(tick_marks, classes, rotation=45)\n",
        "    plt.yticks(tick_marks, classes)\n",
        "\n",
        "    fmt = '.2f' if normalize else 'd'\n",
        "    thresh = cm.max() / 2.\n",
        "    for i, j in itertools.product(range(cm.shape[0]), range(cm.shape[1])):\n",
        "        plt.text(j, i, format(cm[i, j], fmt),\n",
        "                 horizontalalignment=\"center\",\n",
        "                 color=\"white\" if cm[i, j] > thresh else \"black\")\n",
        "\n",
        "    plt.ylabel('True label')\n",
        "    plt.xlabel('Predicted label')\n",
        "    plt.tight_layout()"
      ],
      "execution_count": null,
      "outputs": []
    },
    {
      "cell_type": "code",
      "metadata": {
        "colab": {
          "base_uri": "https://localhost:8080/",
          "height": 584
        },
        "id": "uBU0zjyOdBso",
        "outputId": "23629c23-bf41-44b9-962d-6f961e93ce6f"
      },
      "source": [
        "predictions = alex.predict(test,verbose=1)  #for confusion metric\n",
        "#6\n",
        "import matplotlib.pyplot as plt\n",
        "import numpy as np\n",
        "from sklearn.metrics import confusion_matrix\n",
        "test_labels=test.classes\n",
        "cm1=confusion_matrix(test_labels, predictions.argmax(axis=1))\n",
        "# or\n",
        "#cm = np.array([[1401,    0],[1112, 0]])\n",
        "cm1_plot_labels = ['akiec', 'bcc', 'bkl', 'df', 'mel','nv', 'vasc']\n",
        "plt.imshow(cm1, cmap=plt.cm.Blues)\n",
        "plt.xlabel(\"Predicted labels\")\n",
        "plt.ylabel(\"True labels\")\n",
        "\n",
        "plt.xticks([], [])\n",
        "plt.yticks([], [])\n",
        "plt.title('Confusion matrix ')\n",
        "plt.colorbar()\n",
        "plt.show()\n",
        "\n",
        "\n",
        "#plot_confusion_matrix(cm, cm_plot_labels)\n",
        "# Confusion Matrix\n",
        "\n",
        "# Accuracy\n",
        "from sklearn.metrics import accuracy_score\n",
        "Accuracy=accuracy_score(test_labels, predictions.argmax(axis=1))\n",
        "# Recall\n",
        "from sklearn.metrics import recall_score\n",
        "RecallScore=recall_score(test_labels, predictions.argmax(axis=1), average=None)\n",
        "# Precision\n",
        "from sklearn.metrics import precision_score\n",
        "Precision=precision_score(test_labels, predictions.argmax(axis=1), average=None)\n",
        "from sklearn.metrics import f1_score\n",
        "F1=f1_score(test_labels, predictions.argmax(axis=1), average=None)\n",
        "total1=sum(sum(cm1))\n",
        "print(\"Confusion:\",cm1)\n",
        "#####from confusion matrix calculate accuracy\n",
        "accuracy1=(cm1[0,0]+cm1[1,1])/total1\n",
        "print ('Accuracy : ', accuracy1)\n",
        "print(\"Accuracy 2:\",Accuracy)\n",
        "sensitivity1 = cm1[0,0]/(cm1[0,0]+cm1[0,1])\n",
        "print('Sensitivity : ', sensitivity1 )\n",
        "specificity1 = cm1[1,1]/(cm1[1,0]+cm1[1,1])\n",
        "print('Specificity : ', specificity1)\n",
        "print(\"Recall\",RecallScore)\n",
        "print(\"Precision\",Precision)\n",
        "print(\"F1\",F1)"
      ],
      "execution_count": 11,
      "outputs": [
        {
          "output_type": "stream",
          "text": [
            "63/63 [==============================] - 996s 16s/step\n"
          ],
          "name": "stdout"
        },
        {
          "output_type": "display_data",
          "data": {
            "image/png": "[encoded data removed]",
            "text/plain": [
              "<Figure size 432x288 with 2 Axes>"
            ]
          },
          "metadata": {
            "tags": [],
            "needs_background": "light"
          }
        },
        {
          "output_type": "stream",
          "text": [
            "Confusion: [[   2    5    1    0   10   46    1]\n",
            " [   0    7    1    1    5   89    0]\n",
            " [   4   23    6    0   28  158    1]\n",
            " [   0    0    1    0    1   21    0]\n",
            " [   3   23   16    0   17  161    2]\n",
            " [  27  108   51    3  133 1008   12]\n",
            " [   0    2    1    0    6   20    0]]\n",
            "Accuracy :  0.004491017964071856\n",
            "Accuracy 2: 0.5189620758483033\n",
            "Sensitivity :  0.2857142857142857\n",
            "Specificity :  1.0\n",
            "Recall [0.03076923 0.06796117 0.02727273 0.         0.07657658 0.75111773\n",
            " 0.        ]\n",
            "Precision [0.05555556 0.04166667 0.07792208 0.         0.085      0.67065868\n",
            " 0.        ]\n",
            "F1 [0.03960396 0.05166052 0.04040404 0.         0.08056872 0.7086116\n",
            " 0.        ]\n"
          ],
          "name": "stdout"
        }
      ]
    },
    {
      "cell_type": "code",
      "metadata": {
        "id": "T6yDG4evm1_k",
        "colab": {
          "base_uri": "https://localhost:8080/"
        },
        "outputId": "d13e93b3-4bae-422c-e580-f33b31c4e1f2"
      },
      "source": [
        "preds = alex.evaluate(test)\n",
        "print (\"Loss = \" + str(preds[0]))\n",
        "print (\"Test Accuracy = \" + str(preds[1]))\n",
        "alex.save(\"model11.h5\")"
      ],
      "execution_count": 12,
      "outputs": [
        {
          "output_type": "stream",
          "text": [
            "63/63 [==============================] - 20s 322ms/step - loss: 1.2813 - accuracy: 0.7320\n",
            "Loss = 1.281312108039856\n",
            "Test Accuracy = 0.7320359349250793\n"
          ],
          "name": "stdout"
        }
      ]
    },
    {
      "cell_type": "code",
      "metadata": {
        "id": "AKVUBvjpm1_l",
        "colab": {
          "base_uri": "https://localhost:8080/",
          "height": 573
        },
        "outputId": "58e8e684-7524-482c-c46a-0d541a5562de"
      },
      "source": [
        "#with epochs 20\n",
        "from matplotlib import pyplot as plt\n",
        "plt.plot(history20.history['accuracy'])\n",
        "plt.plot(history20.history['val_accuracy'])\n",
        "plt.title('model accuracy')\n",
        "plt.ylabel('accuracy')\n",
        "plt.xlabel('epoch')\n",
        "plt.legend(['train', 'val'], loc='upper left')\n",
        "plt.show()\n",
        "#with epochs 7\n",
        "plt.plot(history20.history['loss'])\n",
        "plt.plot(history20.history['val_loss'])\n",
        "plt.title('model loss')\n",
        "plt.ylabel('loss')\n",
        "plt.xlabel('epoch')\n",
        "plt.legend(['train', 'val'], loc='upper left')\n",
        "plt.show()"
      ],
      "execution_count": 13,
      "outputs": [
        {
          "output_type": "display_data",
          "data": {
            "image/png": "[encoded data removed]",
            "text/plain": [
              "<Figure size 432x288 with 1 Axes>"
            ]
          },
          "metadata": {
            "tags": [],
            "needs_background": "light"
          }
        },
        {
          "output_type": "display_data",
          "data": {
            "image/png": "[encoded data removed]",
            "text/plain": [
              "<Figure size 432x288 with 1 Axes>"
            ]
          },
          "metadata": {
            "tags": [],
            "needs_background": "light"
          }
        }
      ]
    }
  ]
}
